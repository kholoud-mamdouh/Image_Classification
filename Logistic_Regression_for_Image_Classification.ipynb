{
  "cells": [
    {
      "cell_type": "code",
      "execution_count": null,
      "id": "2383315e",
      "metadata": {
        "id": "2383315e"
      },
      "outputs": [],
      "source": [
        "\n",
        "\n",
        "import os\n",
        "import skimage\n",
        "import numpy as np \n",
        "import matplotlib.pyplot as plt\n",
        "import pandas as pd \n",
        "import glob\n",
        "from skimage import io\n",
        "import seaborn as sns \n",
        "from skimage import color\n",
        "\n",
        "\n",
        "from skimage import data, color\n",
        "from skimage.transform import rescale, resize, downscale_local_mean \n",
        "\n",
        "from sklearn.model_selection import train_test_split\n",
        "from sklearn.linear_model import LogisticRegression\n",
        "from sklearn.metrics import accuracy_score\n",
        "from sklearn.metrics import classification_report\n",
        "\n",
        "from sklearn.metrics import confusion_matrix\n",
        "\n",
        "from sklearn.metrics import roc_curve  \n",
        "from sklearn import metrics\n",
        "from sklearn.metrics import plot_confusion_matrix\n",
        "\n",
        "\n",
        "\n"
      ]
    },
    {
      "cell_type": "code",
      "execution_count": null,
      "id": "1a97d18e",
      "metadata": {
        "id": "1a97d18e"
      },
      "outputs": [],
      "source": [
        "\n",
        "\n",
        "path_o = \"F:\\Dataset\\EnglishImg\\English\\Img\\GoodImg\\Bmp\\Sample051\\*\"\n",
        "\n",
        "path_q = \"F:\\Dataset\\EnglishImg\\English\\Img\\GoodImg\\Bmp\\Sample053\\*\"\n"
      ]
    },
    {
      "cell_type": "code",
      "execution_count": null,
      "id": "3df54423",
      "metadata": {
        "id": "3df54423"
      },
      "outputs": [],
      "source": [
        "\n",
        "path_o_paths =  glob.glob(  path_o )\n",
        "\n",
        "path_q_paths =  glob.glob(  path_q )\n"
      ]
    },
    {
      "cell_type": "code",
      "execution_count": null,
      "id": "adcde326",
      "metadata": {
        "id": "adcde326",
        "outputId": "a2827762-1edd-465e-be1f-6b19e4bd5f4f"
      },
      "outputs": [
        {
          "name": "stdout",
          "output_type": "stream",
          "text": [
            "148\n",
            "54\n"
          ]
        }
      ],
      "source": [
        "\n",
        "print( len(path_o_paths  ))\n",
        "\n",
        "print( len(path_q_paths  ))\n"
      ]
    },
    {
      "cell_type": "code",
      "execution_count": null,
      "id": "50497010",
      "metadata": {
        "id": "50497010"
      },
      "outputs": [],
      "source": [
        " \n",
        "\n",
        "oq_imgs_list = [ ] \n",
        "oq_label_list = [ ] \n",
        "\n",
        "\n",
        "for path in path_o_paths:\n",
        "    \n",
        "    img = io.imread( path )\n",
        "           \n",
        "    img_resized =  resize( img , (30 , 30 , 3 ) )  # 30*30*3\n",
        "    \n",
        "    img_gray =   color.rgb2gray( img_resized  )   #  # 30*30\n",
        "    \n",
        "    img_reshaped =  img_gray.reshape( ( 900 ) )\n",
        "    \n",
        "    oq_imgs_list.append(  img_reshaped )\n",
        "    \n",
        "    oq_label_list.append( 0 )\n",
        "    "
      ]
    },
    {
      "cell_type": "code",
      "execution_count": null,
      "id": "0ece27ea",
      "metadata": {
        "id": "0ece27ea"
      },
      "outputs": [],
      "source": [
        "\n",
        "  "
      ]
    },
    {
      "cell_type": "code",
      "execution_count": null,
      "id": "cb27e8a6",
      "metadata": {
        "id": "cb27e8a6"
      },
      "outputs": [],
      "source": []
    },
    {
      "cell_type": "code",
      "execution_count": null,
      "id": "dc2d2726",
      "metadata": {
        "id": "dc2d2726"
      },
      "outputs": [],
      "source": [
        " \n",
        "\n",
        "for path in path_q_paths:\n",
        "    \n",
        "    img = io.imread( path )\n",
        "           \n",
        "    img_resized =  resize( img , (30 , 30 , 3 ) )  # 30*30*3\n",
        "    \n",
        "    img_gray =   color.rgb2gray( img_resized  )   #  # 30*30\n",
        "    \n",
        "    img_reshaped =  img_gray.reshape( ( 900 ) )\n",
        "    \n",
        "    oq_imgs_list.append(  img_reshaped )\n",
        "    \n",
        "    oq_label_list.append( 1 )\n",
        "    \n",
        "    "
      ]
    },
    {
      "cell_type": "code",
      "execution_count": null,
      "id": "dd09187b",
      "metadata": {
        "id": "dd09187b",
        "outputId": "396324a0-9452-4705-ce99-4b981bf7076e"
      },
      "outputs": [
        {
          "name": "stdout",
          "output_type": "stream",
          "text": [
            "202\n",
            "202\n"
          ]
        }
      ],
      "source": [
        "\n",
        "print( len(oq_imgs_list  ))\n",
        "\n",
        "print( len(oq_label_list  ))\n"
      ]
    },
    {
      "cell_type": "code",
      "execution_count": null,
      "id": "e53d9d71",
      "metadata": {
        "id": "e53d9d71"
      },
      "outputs": [],
      "source": [
        " "
      ]
    },
    {
      "cell_type": "code",
      "execution_count": null,
      "id": "3797d8ac",
      "metadata": {
        "id": "3797d8ac"
      },
      "outputs": [],
      "source": [
        "\n",
        "\n",
        "\n",
        "X_train, X_test, y_train, y_test = train_test_split(  oq_imgs_list , oq_label_list, test_size=0.2, stratify=oq_label_list , random_state=42)\n",
        "\n"
      ]
    },
    {
      "cell_type": "code",
      "execution_count": null,
      "id": "f7da2c13",
      "metadata": {
        "id": "f7da2c13"
      },
      "outputs": [],
      "source": []
    },
    {
      "cell_type": "code",
      "execution_count": null,
      "id": "c08f48e7",
      "metadata": {
        "id": "c08f48e7"
      },
      "outputs": [],
      "source": [
        "\n",
        "Logistic_model = LogisticRegression ( )\n"
      ]
    },
    {
      "cell_type": "code",
      "execution_count": null,
      "id": "aec01ddc",
      "metadata": {
        "id": "aec01ddc",
        "outputId": "80afafff-c9ac-4113-9d17-d95b951c0e0e"
      },
      "outputs": [
        {
          "name": "stderr",
          "output_type": "stream",
          "text": [
            "C:\\Users\\Hussien_PC\\anaconda3\\lib\\site-packages\\sklearn\\linear_model\\_logistic.py:763: ConvergenceWarning: lbfgs failed to converge (status=1):\n",
            "STOP: TOTAL NO. of ITERATIONS REACHED LIMIT.\n",
            "\n",
            "Increase the number of iterations (max_iter) or scale the data as shown in:\n",
            "    https://scikit-learn.org/stable/modules/preprocessing.html\n",
            "Please also refer to the documentation for alternative solver options:\n",
            "    https://scikit-learn.org/stable/modules/linear_model.html#logistic-regression\n",
            "  n_iter_i = _check_optimize_result(\n"
          ]
        }
      ],
      "source": [
        "\n",
        "Logistic_model = Logistic_model.fit(  X_train ,  y_train  )\n"
      ]
    },
    {
      "cell_type": "code",
      "execution_count": null,
      "id": "29417415",
      "metadata": {
        "id": "29417415"
      },
      "outputs": [],
      "source": [
        "\n",
        "\n",
        "predict_y_test =  Logistic_model.predict( X_test  )\n",
        "\n",
        "predict_y_train =  Logistic_model.predict( X_train  )\n",
        "\n"
      ]
    },
    {
      "cell_type": "code",
      "execution_count": null,
      "id": "8b663a11",
      "metadata": {
        "id": "8b663a11",
        "outputId": "b255112e-423c-4a72-8c96-a7a8fee17ff8"
      },
      "outputs": [
        {
          "name": "stdout",
          "output_type": "stream",
          "text": [
            "0.7804878048780488\n",
            "0.9565217391304348\n"
          ]
        }
      ],
      "source": [
        "\n",
        "\n",
        "print( accuracy_score(   y_test ,  predict_y_test  )  )\n",
        "\n",
        "\n",
        "print( accuracy_score(   y_train ,  predict_y_train  )  )\n"
      ]
    },
    {
      "cell_type": "code",
      "execution_count": null,
      "id": "da49db32",
      "metadata": {
        "id": "da49db32"
      },
      "outputs": [],
      "source": []
    },
    {
      "cell_type": "code",
      "execution_count": null,
      "id": "ad9718c2",
      "metadata": {
        "id": "ad9718c2"
      },
      "outputs": [],
      "source": [
        "def drawing_conf_matrix(  y_actual , y_predict ):\n",
        "    \n",
        "    print( \"Classification Report\" )\n",
        "    print ( classification_report(  y_actual , y_predict  )  )  # to represent accuacy, precision, recall and f1 score\n",
        "\n",
        "    conf_mat = confusion_matrix( y_actual,   y_predict )   # to represent confusion matrix ( TP , FP , FN , FN )\n",
        "    \n",
        "    print( \"Confusion Matrix\")\n",
        "    print( conf_mat )\n",
        "    sns.heatmap( conf_mat , annot= True  , fmt = \"\" )\n",
        "    plt.ylabel('True label')\n",
        "    plt.xlabel('Predicted label')\n",
        "\n",
        "\n",
        "    "
      ]
    },
    {
      "cell_type": "code",
      "execution_count": null,
      "id": "c86f276b",
      "metadata": {
        "id": "c86f276b",
        "outputId": "8c6a8edf-80a4-43ad-f9ac-b0bbec9bb62c"
      },
      "outputs": [
        {
          "name": "stdout",
          "output_type": "stream",
          "text": [
            "Classification Report\n",
            "              precision    recall  f1-score   support\n",
            "\n",
            "           0       0.77      1.00      0.87        30\n",
            "           1       1.00      0.18      0.31        11\n",
            "\n",
            "    accuracy                           0.78        41\n",
            "   macro avg       0.88      0.59      0.59        41\n",
            "weighted avg       0.83      0.78      0.72        41\n",
            "\n",
            "Confusion Matrix\n",
            "[[30  0]\n",
            " [ 9  2]]\n"
          ]
        },
        {
          "data": {
            "image/png": "[encoded data removed]",
            "text/plain": [
              "<Figure size 432x288 with 2 Axes>"
            ]
          },
          "metadata": {
            "needs_background": "light"
          },
          "output_type": "display_data"
        }
      ],
      "source": [
        "\n",
        "\n",
        "drawing_conf_matrix( y_test ,  predict_y_test )\n",
        "    \n",
        "    "
      ]
    },
    {
      "cell_type": "code",
      "execution_count": null,
      "id": "ec552189",
      "metadata": {
        "id": "ec552189",
        "outputId": "f04ed597-aded-46fd-a1f1-3ec1b149ba33"
      },
      "outputs": [
        {
          "name": "stdout",
          "output_type": "stream",
          "text": [
            "Classification Report\n",
            "              precision    recall  f1-score   support\n",
            "\n",
            "           0       0.94      1.00      0.97       118\n",
            "           1       1.00      0.84      0.91        43\n",
            "\n",
            "    accuracy                           0.96       161\n",
            "   macro avg       0.97      0.92      0.94       161\n",
            "weighted avg       0.96      0.96      0.96       161\n",
            "\n",
            "Confusion Matrix\n",
            "[[118   0]\n",
            " [  7  36]]\n"
          ]
        },
        {
          "data": {
            "image/png": "[encoded data removed]",
            "text/plain": [
              "<Figure size 432x288 with 2 Axes>"
            ]
          },
          "metadata": {
            "needs_background": "light"
          },
          "output_type": "display_data"
        }
      ],
      "source": [
        "\n",
        "drawing_conf_matrix(  y_train ,  predict_y_train )\n"
      ]
    },
    {
      "cell_type": "code",
      "execution_count": null,
      "id": "3c0d6632",
      "metadata": {
        "id": "3c0d6632"
      },
      "outputs": [],
      "source": [
        "\n",
        "from sklearn.metrics import confusion_matrix\n"
      ]
    },
    {
      "cell_type": "code",
      "execution_count": null,
      "id": "1ea81815",
      "metadata": {
        "id": "1ea81815"
      },
      "outputs": [],
      "source": [
        "\n",
        "conf_matrix_test = confusion_matrix(  y_test ,  predict_y_test  )\n"
      ]
    },
    {
      "cell_type": "code",
      "execution_count": null,
      "id": "feb03780",
      "metadata": {
        "id": "feb03780"
      },
      "outputs": [],
      "source": [
        "\n",
        "\n",
        "Accu = np.sum( np.diag( conf_matrix_test) ) / np.sum( conf_matrix_test )\n"
      ]
    },
    {
      "cell_type": "code",
      "execution_count": null,
      "id": "fd2472ab",
      "metadata": {
        "id": "fd2472ab",
        "outputId": "61377dcd-3d39-4b10-9ef8-8f8710a3ef7b"
      },
      "outputs": [
        {
          "data": {
            "text/plain": [
              "0.7804878048780488"
            ]
          },
          "execution_count": 75,
          "metadata": {},
          "output_type": "execute_result"
        }
      ],
      "source": [
        "\n",
        "Accu"
      ]
    },
    {
      "cell_type": "code",
      "execution_count": null,
      "id": "a0169a91",
      "metadata": {
        "id": "a0169a91"
      },
      "outputs": [],
      "source": []
    }
  ],
  "metadata": {
    "kernelspec": {
      "display_name": "Python 3",
      "language": "python",
      "name": "python3"
    },
    "language_info": {
      "codemirror_mode": {
        "name": "ipython",
        "version": 3
      },
      "file_extension": ".py",
      "mimetype": "text/x-python",
      "name": "python",
      "nbconvert_exporter": "python",
      "pygments_lexer": "ipython3",
      "version": "3.8.8"
    },
    "colab": {
      "provenance": []
    }
  },
  "nbformat": 4,
  "nbformat_minor": 5
}